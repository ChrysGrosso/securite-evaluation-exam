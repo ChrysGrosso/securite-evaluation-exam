{
 "cells": [
  {
   "cell_type": "code",
   "execution_count": 1,
   "id": "cba66bb5",
   "metadata": {},
   "outputs": [],
   "source": [
    "import os\n",
    "os.chdir(\"C:/securite\")"
   ]
  },
  {
   "cell_type": "code",
   "execution_count": 2,
   "id": "3f86d3c9",
   "metadata": {},
   "outputs": [],
   "source": [
    "import numpy"
   ]
  },
  {
   "cell_type": "code",
   "execution_count": 3,
   "id": "04cd059d",
   "metadata": {},
   "outputs": [],
   "source": [
    "#lire l'entête du fichier\n",
    "def en_tete(nomfichier):\n",
    "    #ouvrir le fichier en lecture seule\n",
    "    fin=open(nomfichier, \"r\")\n",
    "    #lire la première ligne\n",
    "    ligne=fin.readline()\n",
    "    #splitter avec tabulation\n",
    "    lstvar=ligne.split(\"\\t\")\n",
    "    print(lstvar)\n",
    "    #nombre de variables\n",
    "    print(len(lstvar))\n",
    "         #fermer\n",
    "    fin.close()\n",
    "         #pas de return"
   ]
  },
  {
   "cell_type": "code",
   "execution_count": 4,
   "id": "626494d5",
   "metadata": {},
   "outputs": [],
   "source": [
    "#nombre de lignes\n",
    "def nb_lignes(nomfichier):\n",
    "    fin=open(nomfichier, \"r\")\n",
    "    #compteur\n",
    "    i=0\n",
    "    #boucler \n",
    "    for s in fin:\n",
    "        i=i+1\n",
    "    #fermer\n",
    "    fin.close()\n",
    "    #nombre de lignes sans l'en-tête\n",
    "    return i-1"
   ]
  },
  {
   "cell_type": "code",
   "execution_count": 5,
   "id": "473331f1",
   "metadata": {},
   "outputs": [],
   "source": [
    "#extraction et éventuellement création du fichier restant\n",
    "#source : fichier source\n",
    "#sortie: fichier avec l'échantillon\n",
    "#n :taille de l'échantillon\n",
    "#N:taille de la source\n",
    "def extraction(source, sortie, n,N):\n",
    "    fin=open(source,\"r\")\n",
    "    #fichier de sortie\n",
    "    fout=open(sortie, \"w\")\n",
    "    #entete\n",
    "    s=fin.readline()\n",
    "    fout.write(s)\n",
    "    #compteur de verification\n",
    "    cpt=0\n",
    "    #boucler\n",
    "    while(n>0):\n",
    "        #lire la ligne\n",
    "        s=fin.readline()\n",
    "        #inclure dans la sortie ?\n",
    "        if(N*numpy.random.rand() <=n):\n",
    "            #oui\n",
    "            fout.write(s)\n",
    "            #un de moins à insérer\n",
    "            n=n-1\n",
    "            #incrémentation compteur\n",
    "            cpt=cpt+1\n",
    "        #une entrée a été traitée\n",
    "        N=N-1\n",
    "    #fin du tant que\n",
    "    fin.close()\n",
    "    fout.close()\n",
    "    #return\n",
    "    return cpt"
   ]
  },
  {
   "cell_type": "code",
   "execution_count": 6,
   "id": "5dd3a7ec",
   "metadata": {},
   "outputs": [
    {
     "name": "stdout",
     "output_type": "stream",
     "text": [
      "['ï»¿V1;V2;V3;V4;V5;V6;V7;V8;V9;V10;V11;V12;V13;V14;V15;V16;V17;V18;V19;V20;V21;V22;V23;V24;V25;V26;V27;V28;V29;V30;V31;V32;V33;V34;V35;V36;V37;V38;V39;V40;V41;V42;V43;V44;V45;V46;V47;V48;V49;V50;V51;V52;V53;V54;CLASSE\\n']\n",
      "1\n"
     ]
    }
   ],
   "source": [
    "#charger l'en-tête\n",
    "en_tete(\"dataset_sujet.csv\")"
   ]
  },
  {
   "cell_type": "code",
   "execution_count": 7,
   "id": "86073aa1",
   "metadata": {},
   "outputs": [
    {
     "name": "stdout",
     "output_type": "stream",
     "text": [
      "481012\n"
     ]
    }
   ],
   "source": [
    "#nombre de lignes\n",
    "N=nb_lignes(\"dataset_sujet.csv\")\n",
    "print(N)"
   ]
  },
  {
   "cell_type": "code",
   "execution_count": 8,
   "id": "51922c63",
   "metadata": {},
   "outputs": [],
   "source": [
    "#extraction au hasard de 100 000 observations dans train, idem pour le test#on fait au plus vite \n",
    "#sachant qu'il vaudrait mieux extraire 200 000 au hasard et splitter\n",
    "\n",
    "#extraction et éventuellement création du fichier restant\n",
    "#source : fichier source\n",
    "#sortie: fichier avec l'échantillon\n",
    "#n :taille de l'échantillon\n",
    "#N:taille de la source\n",
    "TRAIN= extraction(\"dataset_sujet.csv\", \"dataset_sujet_train.csv\", 381012,481012)\n"
   ]
  },
  {
   "cell_type": "code",
   "execution_count": 9,
   "id": "ee2ce6b2",
   "metadata": {},
   "outputs": [],
   "source": [
    "TEST= extraction(\"dataset_sujet.csv\", \"dataset_sujet_test.csv\", 100000,481012)"
   ]
  },
  {
   "cell_type": "code",
   "execution_count": 10,
   "id": "c72b4957",
   "metadata": {},
   "outputs": [],
   "source": [
    "import pandas as pd\n",
    "dftrain=pd.read_table(\"dataset_sujet_train.csv\", sep=';',header=0)"
   ]
  },
  {
   "cell_type": "code",
   "execution_count": 11,
   "id": "f04ae300",
   "metadata": {},
   "outputs": [],
   "source": [
    "dftest=pd.read_table(\"dataset_sujet_test.csv\", sep=';',header=0)"
   ]
  },
  {
   "cell_type": "code",
   "execution_count": 12,
   "id": "fea8517b",
   "metadata": {},
   "outputs": [
    {
     "name": "stdout",
     "output_type": "stream",
     "text": [
      "(381012, 55)\n"
     ]
    }
   ],
   "source": [
    "print(dftrain.shape)"
   ]
  },
  {
   "cell_type": "code",
   "execution_count": 13,
   "id": "5aa508b0",
   "metadata": {},
   "outputs": [
    {
     "name": "stdout",
     "output_type": "stream",
     "text": [
      "(100000, 55)\n"
     ]
    }
   ],
   "source": [
    "print(dftest.shape)"
   ]
  },
  {
   "cell_type": "code",
   "execution_count": 14,
   "id": "561b9865",
   "metadata": {},
   "outputs": [
    {
     "data": {
      "text/html": [
       "<div>\n",
       "<style scoped>\n",
       "    .dataframe tbody tr th:only-of-type {\n",
       "        vertical-align: middle;\n",
       "    }\n",
       "\n",
       "    .dataframe tbody tr th {\n",
       "        vertical-align: top;\n",
       "    }\n",
       "\n",
       "    .dataframe thead th {\n",
       "        text-align: right;\n",
       "    }\n",
       "</style>\n",
       "<table border=\"1\" class=\"dataframe\">\n",
       "  <thead>\n",
       "    <tr style=\"text-align: right;\">\n",
       "      <th></th>\n",
       "      <th>V1</th>\n",
       "      <th>V2</th>\n",
       "      <th>V3</th>\n",
       "      <th>V4</th>\n",
       "      <th>V5</th>\n",
       "      <th>V6</th>\n",
       "      <th>V7</th>\n",
       "      <th>V8</th>\n",
       "      <th>V9</th>\n",
       "      <th>V10</th>\n",
       "    </tr>\n",
       "  </thead>\n",
       "  <tbody>\n",
       "    <tr>\n",
       "      <th>count</th>\n",
       "      <td>381012.000000</td>\n",
       "      <td>381012.000000</td>\n",
       "      <td>381012.000000</td>\n",
       "      <td>381012.000000</td>\n",
       "      <td>381012.000000</td>\n",
       "      <td>381012.000000</td>\n",
       "      <td>381012.000000</td>\n",
       "      <td>381012.000000</td>\n",
       "      <td>381012.000000</td>\n",
       "      <td>381012.000000</td>\n",
       "    </tr>\n",
       "    <tr>\n",
       "      <th>mean</th>\n",
       "      <td>2959.485518</td>\n",
       "      <td>155.726111</td>\n",
       "      <td>14.106852</td>\n",
       "      <td>269.291361</td>\n",
       "      <td>46.384720</td>\n",
       "      <td>2348.201049</td>\n",
       "      <td>212.141069</td>\n",
       "      <td>223.320386</td>\n",
       "      <td>142.534238</td>\n",
       "      <td>1979.662536</td>\n",
       "    </tr>\n",
       "    <tr>\n",
       "      <th>std</th>\n",
       "      <td>279.611114</td>\n",
       "      <td>111.924988</td>\n",
       "      <td>7.480694</td>\n",
       "      <td>212.593315</td>\n",
       "      <td>58.238198</td>\n",
       "      <td>1558.473985</td>\n",
       "      <td>26.800874</td>\n",
       "      <td>19.731453</td>\n",
       "      <td>38.266578</td>\n",
       "      <td>1322.562191</td>\n",
       "    </tr>\n",
       "    <tr>\n",
       "      <th>min</th>\n",
       "      <td>1859.000000</td>\n",
       "      <td>0.000000</td>\n",
       "      <td>0.000000</td>\n",
       "      <td>0.000000</td>\n",
       "      <td>-166.000000</td>\n",
       "      <td>0.000000</td>\n",
       "      <td>0.000000</td>\n",
       "      <td>0.000000</td>\n",
       "      <td>0.000000</td>\n",
       "      <td>0.000000</td>\n",
       "    </tr>\n",
       "    <tr>\n",
       "      <th>25%</th>\n",
       "      <td>2810.000000</td>\n",
       "      <td>58.000000</td>\n",
       "      <td>9.000000</td>\n",
       "      <td>108.000000</td>\n",
       "      <td>7.000000</td>\n",
       "      <td>1104.000000</td>\n",
       "      <td>198.000000</td>\n",
       "      <td>213.000000</td>\n",
       "      <td>119.000000</td>\n",
       "      <td>1024.000000</td>\n",
       "    </tr>\n",
       "    <tr>\n",
       "      <th>50%</th>\n",
       "      <td>2996.000000</td>\n",
       "      <td>127.000000</td>\n",
       "      <td>13.000000</td>\n",
       "      <td>218.000000</td>\n",
       "      <td>30.000000</td>\n",
       "      <td>1994.000000</td>\n",
       "      <td>218.000000</td>\n",
       "      <td>226.000000</td>\n",
       "      <td>143.000000</td>\n",
       "      <td>1710.000000</td>\n",
       "    </tr>\n",
       "    <tr>\n",
       "      <th>75%</th>\n",
       "      <td>3163.000000</td>\n",
       "      <td>261.000000</td>\n",
       "      <td>18.000000</td>\n",
       "      <td>384.000000</td>\n",
       "      <td>69.000000</td>\n",
       "      <td>3326.000000</td>\n",
       "      <td>231.000000</td>\n",
       "      <td>237.000000</td>\n",
       "      <td>168.000000</td>\n",
       "      <td>2550.000000</td>\n",
       "    </tr>\n",
       "    <tr>\n",
       "      <th>max</th>\n",
       "      <td>3858.000000</td>\n",
       "      <td>360.000000</td>\n",
       "      <td>66.000000</td>\n",
       "      <td>1390.000000</td>\n",
       "      <td>599.000000</td>\n",
       "      <td>7117.000000</td>\n",
       "      <td>254.000000</td>\n",
       "      <td>254.000000</td>\n",
       "      <td>254.000000</td>\n",
       "      <td>7172.000000</td>\n",
       "    </tr>\n",
       "  </tbody>\n",
       "</table>\n",
       "</div>"
      ],
      "text/plain": [
       "                  V1             V2             V3             V4  \\\n",
       "count  381012.000000  381012.000000  381012.000000  381012.000000   \n",
       "mean     2959.485518     155.726111      14.106852     269.291361   \n",
       "std       279.611114     111.924988       7.480694     212.593315   \n",
       "min      1859.000000       0.000000       0.000000       0.000000   \n",
       "25%      2810.000000      58.000000       9.000000     108.000000   \n",
       "50%      2996.000000     127.000000      13.000000     218.000000   \n",
       "75%      3163.000000     261.000000      18.000000     384.000000   \n",
       "max      3858.000000     360.000000      66.000000    1390.000000   \n",
       "\n",
       "                  V5             V6             V7             V8  \\\n",
       "count  381012.000000  381012.000000  381012.000000  381012.000000   \n",
       "mean       46.384720    2348.201049     212.141069     223.320386   \n",
       "std        58.238198    1558.473985      26.800874      19.731453   \n",
       "min      -166.000000       0.000000       0.000000       0.000000   \n",
       "25%         7.000000    1104.000000     198.000000     213.000000   \n",
       "50%        30.000000    1994.000000     218.000000     226.000000   \n",
       "75%        69.000000    3326.000000     231.000000     237.000000   \n",
       "max       599.000000    7117.000000     254.000000     254.000000   \n",
       "\n",
       "                  V9            V10  \n",
       "count  381012.000000  381012.000000  \n",
       "mean      142.534238    1979.662536  \n",
       "std        38.266578    1322.562191  \n",
       "min         0.000000       0.000000  \n",
       "25%       119.000000    1024.000000  \n",
       "50%       143.000000    1710.000000  \n",
       "75%       168.000000    2550.000000  \n",
       "max       254.000000    7172.000000  "
      ]
     },
     "execution_count": 14,
     "metadata": {},
     "output_type": "execute_result"
    }
   ],
   "source": [
    "dftrain.describe()"
   ]
  },
  {
   "cell_type": "code",
   "execution_count": 15,
   "id": "fcd2d132",
   "metadata": {
    "collapsed": true
   },
   "outputs": [
    {
     "name": "stdout",
     "output_type": "stream",
     "text": [
      "<class 'pandas.core.frame.DataFrame'>\n",
      "RangeIndex: 100000 entries, 0 to 99999\n",
      "Data columns (total 55 columns):\n",
      " #   Column  Non-Null Count   Dtype \n",
      "---  ------  --------------   ----- \n",
      " 0   V1      100000 non-null  int64 \n",
      " 1   V2      100000 non-null  int64 \n",
      " 2   V3      100000 non-null  int64 \n",
      " 3   V4      100000 non-null  int64 \n",
      " 4   V5      100000 non-null  int64 \n",
      " 5   V6      100000 non-null  int64 \n",
      " 6   V7      100000 non-null  int64 \n",
      " 7   V8      100000 non-null  int64 \n",
      " 8   V9      100000 non-null  int64 \n",
      " 9   V10     100000 non-null  int64 \n",
      " 10  V11     100000 non-null  object\n",
      " 11  V12     100000 non-null  object\n",
      " 12  V13     100000 non-null  object\n",
      " 13  V14     100000 non-null  object\n",
      " 14  V15     100000 non-null  object\n",
      " 15  V16     100000 non-null  object\n",
      " 16  V17     100000 non-null  object\n",
      " 17  V18     100000 non-null  object\n",
      " 18  V19     100000 non-null  object\n",
      " 19  V20     100000 non-null  object\n",
      " 20  V21     100000 non-null  object\n",
      " 21  V22     100000 non-null  object\n",
      " 22  V23     100000 non-null  object\n",
      " 23  V24     100000 non-null  object\n",
      " 24  V25     100000 non-null  object\n",
      " 25  V26     100000 non-null  object\n",
      " 26  V27     100000 non-null  object\n",
      " 27  V28     100000 non-null  object\n",
      " 28  V29     100000 non-null  object\n",
      " 29  V30     100000 non-null  object\n",
      " 30  V31     100000 non-null  object\n",
      " 31  V32     100000 non-null  object\n",
      " 32  V33     100000 non-null  object\n",
      " 33  V34     100000 non-null  object\n",
      " 34  V35     100000 non-null  object\n",
      " 35  V36     100000 non-null  object\n",
      " 36  V37     100000 non-null  object\n",
      " 37  V38     100000 non-null  object\n",
      " 38  V39     100000 non-null  object\n",
      " 39  V40     100000 non-null  object\n",
      " 40  V41     100000 non-null  object\n",
      " 41  V42     100000 non-null  object\n",
      " 42  V43     100000 non-null  object\n",
      " 43  V44     100000 non-null  object\n",
      " 44  V45     100000 non-null  object\n",
      " 45  V46     100000 non-null  object\n",
      " 46  V47     100000 non-null  object\n",
      " 47  V48     100000 non-null  object\n",
      " 48  V49     100000 non-null  object\n",
      " 49  V50     100000 non-null  object\n",
      " 50  V51     100000 non-null  object\n",
      " 51  V52     100000 non-null  object\n",
      " 52  V53     100000 non-null  object\n",
      " 53  V54     100000 non-null  object\n",
      " 54  CLASSE  100000 non-null  object\n",
      "dtypes: int64(10), object(45)\n",
      "memory usage: 42.0+ MB\n"
     ]
    }
   ],
   "source": [
    "dftest.info()"
   ]
  },
  {
   "cell_type": "code",
   "execution_count": 16,
   "id": "83f23494",
   "metadata": {},
   "outputs": [
    {
     "name": "stdout",
     "output_type": "stream",
     "text": [
      "C2    0.487643\n",
      "C3    0.364849\n",
      "C5    0.061350\n",
      "C4    0.035062\n",
      "C6    0.029821\n",
      "C1    0.016519\n",
      "C7    0.004756\n",
      "Name: CLASSE, dtype: float64\n"
     ]
    }
   ],
   "source": [
    "#Calculer les proportions des classes\n",
    "#proportion des classes\n",
    "print(dftrain.CLASSE.value_counts()/dftrain.shape[0])"
   ]
  },
  {
   "cell_type": "code",
   "execution_count": 17,
   "id": "28fa3c9f",
   "metadata": {},
   "outputs": [
    {
     "name": "stdout",
     "output_type": "stream",
     "text": [
      "C2    0.48637\n",
      "C3    0.36579\n",
      "C5    0.06208\n",
      "C4    0.03498\n",
      "C6    0.02971\n",
      "C1    0.01633\n",
      "C7    0.00474\n",
      "Name: CLASSE, dtype: float64\n"
     ]
    }
   ],
   "source": [
    "#proportion des classes\n",
    "print(dftest.CLASSE.value_counts()/dftest.shape[0])"
   ]
  },
  {
   "cell_type": "code",
   "execution_count": 18,
   "id": "192aa97b",
   "metadata": {},
   "outputs": [
    {
     "name": "stdout",
     "output_type": "stream",
     "text": [
      "   C_B  C_C  C_B  C_C  C_B  C_C  C_B  C_C  C_B  C_C  ...  C_B  C_C  C_B  C_C  \\\n",
      "0    0    0    1    0    1    0    1    0    1    0  ...    1    0    1    0   \n",
      "1    1    0    1    0    0    0    1    0    1    0  ...    1    0    0    1   \n",
      "2    1    0    1    0    0    0    0    1    1    0  ...    1    0    1    0   \n",
      "3    1    0    1    0    0    0    1    0    0    1  ...    1    0    1    0   \n",
      "4    1    0    1    0    0    0    1    0    0    1  ...    0    1    1    0   \n",
      "\n",
      "   C_C2  C_C3  C_C4  C_C5  C_C6  C_C7  \n",
      "0     1     0     0     0     0     0  \n",
      "1     0     1     0     0     0     0  \n",
      "2     0     0     0     0     0     0  \n",
      "3     0     1     0     0     0     0  \n",
      "4     1     0     0     0     0     0  \n",
      "\n",
      "[5 rows x 94 columns]\n",
      "   C_B  C_C  C_B  C_C  C_B  C_C  C_B  C_C  C_B  C_C  ...  C_B  C_C  C_B  C_C  \\\n",
      "0    0    0    1    0    1    0    1    0    1    0  ...    1    0    1    0   \n",
      "1    1    0    1    0    0    0    1    0    1    0  ...    1    0    0    1   \n",
      "2    1    0    1    0    0    0    0    1    1    0  ...    1    0    1    0   \n",
      "3    1    0    1    0    0    0    1    0    0    1  ...    1    0    1    0   \n",
      "4    1    0    1    0    0    0    1    0    0    1  ...    0    1    1    0   \n",
      "\n",
      "   C_C2  C_C3  C_C4  C_C5  C_C6  C_C7  \n",
      "0     1     0     0     0     0     0  \n",
      "1     0     1     0     0     0     0  \n",
      "2     0     0     0     0     0     0  \n",
      "3     0     1     0     0     0     0  \n",
      "4     1     0     0     0     0     0  \n",
      "\n",
      "[5 rows x 94 columns]\n"
     ]
    }
   ],
   "source": [
    "#get_dummies #One-hot encoding\n",
    "\n",
    "#train\n",
    "trainquali=dftrain.select_dtypes(include=['object'])\n",
    "trainquali=pd.get_dummies(trainquali,drop_first=True, prefix='C')\n",
    "\n",
    "#test\n",
    "testquali=dftest.select_dtypes(include=['object'])\n",
    "testquali=pd.get_dummies(testquali, drop_first=True,prefix='C')\n",
    "print(trainquali.head())\n",
    "print(trainquali.head())"
   ]
  },
  {
   "cell_type": "code",
   "execution_count": 19,
   "id": "3905ef5e",
   "metadata": {},
   "outputs": [
    {
     "name": "stdout",
     "output_type": "stream",
     "text": [
      "(381012, 55)\n",
      "(100000, 55)\n"
     ]
    }
   ],
   "source": [
    "#On reforme les datasets\n",
    "dftrain2=pd.concat([dftrain,trainquali],axis=1, sort=False)\n",
    "                 \n",
    "#On reforme les datasets\n",
    "dftest2=pd.concat([dftest,testquali],axis=1, sort=False)\n",
    "print(dftrain.shape)\n",
    "print(dftest.shape)"
   ]
  },
  {
   "cell_type": "code",
   "execution_count": 20,
   "id": "bf0b5319",
   "metadata": {},
   "outputs": [
    {
     "data": {
      "text/html": [
       "<div>\n",
       "<style scoped>\n",
       "    .dataframe tbody tr th:only-of-type {\n",
       "        vertical-align: middle;\n",
       "    }\n",
       "\n",
       "    .dataframe tbody tr th {\n",
       "        vertical-align: top;\n",
       "    }\n",
       "\n",
       "    .dataframe thead th {\n",
       "        text-align: right;\n",
       "    }\n",
       "</style>\n",
       "<table border=\"1\" class=\"dataframe\">\n",
       "  <thead>\n",
       "    <tr style=\"text-align: right;\">\n",
       "      <th></th>\n",
       "      <th>V1</th>\n",
       "      <th>V2</th>\n",
       "      <th>V3</th>\n",
       "      <th>V4</th>\n",
       "      <th>V5</th>\n",
       "      <th>V6</th>\n",
       "      <th>V7</th>\n",
       "      <th>V8</th>\n",
       "      <th>V9</th>\n",
       "      <th>V10</th>\n",
       "      <th>...</th>\n",
       "      <th>C_C</th>\n",
       "      <th>C_B</th>\n",
       "      <th>C_C</th>\n",
       "      <th>C_B</th>\n",
       "      <th>C_C</th>\n",
       "      <th>C_C2</th>\n",
       "      <th>C_C3</th>\n",
       "      <th>C_C4</th>\n",
       "      <th>C_C5</th>\n",
       "      <th>C_C6</th>\n",
       "    </tr>\n",
       "  </thead>\n",
       "  <tbody>\n",
       "    <tr>\n",
       "      <th>0</th>\n",
       "      <td>2720</td>\n",
       "      <td>356</td>\n",
       "      <td>20</td>\n",
       "      <td>182</td>\n",
       "      <td>64</td>\n",
       "      <td>1766</td>\n",
       "      <td>184</td>\n",
       "      <td>201</td>\n",
       "      <td>151</td>\n",
       "      <td>1660</td>\n",
       "      <td>...</td>\n",
       "      <td>1</td>\n",
       "      <td>1</td>\n",
       "      <td>0</td>\n",
       "      <td>1</td>\n",
       "      <td>0</td>\n",
       "      <td>1</td>\n",
       "      <td>0</td>\n",
       "      <td>0</td>\n",
       "      <td>0</td>\n",
       "      <td>0</td>\n",
       "    </tr>\n",
       "    <tr>\n",
       "      <th>1</th>\n",
       "      <td>3080</td>\n",
       "      <td>55</td>\n",
       "      <td>9</td>\n",
       "      <td>124</td>\n",
       "      <td>8</td>\n",
       "      <td>1717</td>\n",
       "      <td>226</td>\n",
       "      <td>221</td>\n",
       "      <td>128</td>\n",
       "      <td>875</td>\n",
       "      <td>...</td>\n",
       "      <td>0</td>\n",
       "      <td>1</td>\n",
       "      <td>0</td>\n",
       "      <td>0</td>\n",
       "      <td>1</td>\n",
       "      <td>0</td>\n",
       "      <td>1</td>\n",
       "      <td>0</td>\n",
       "      <td>0</td>\n",
       "      <td>0</td>\n",
       "    </tr>\n",
       "    <tr>\n",
       "      <th>2</th>\n",
       "      <td>2797</td>\n",
       "      <td>74</td>\n",
       "      <td>13</td>\n",
       "      <td>30</td>\n",
       "      <td>6</td>\n",
       "      <td>1048</td>\n",
       "      <td>235</td>\n",
       "      <td>215</td>\n",
       "      <td>109</td>\n",
       "      <td>2165</td>\n",
       "      <td>...</td>\n",
       "      <td>0</td>\n",
       "      <td>1</td>\n",
       "      <td>0</td>\n",
       "      <td>1</td>\n",
       "      <td>0</td>\n",
       "      <td>0</td>\n",
       "      <td>0</td>\n",
       "      <td>0</td>\n",
       "      <td>0</td>\n",
       "      <td>0</td>\n",
       "    </tr>\n",
       "    <tr>\n",
       "      <th>3</th>\n",
       "      <td>2728</td>\n",
       "      <td>310</td>\n",
       "      <td>20</td>\n",
       "      <td>0</td>\n",
       "      <td>0</td>\n",
       "      <td>2227</td>\n",
       "      <td>161</td>\n",
       "      <td>222</td>\n",
       "      <td>199</td>\n",
       "      <td>335</td>\n",
       "      <td>...</td>\n",
       "      <td>0</td>\n",
       "      <td>1</td>\n",
       "      <td>0</td>\n",
       "      <td>1</td>\n",
       "      <td>0</td>\n",
       "      <td>0</td>\n",
       "      <td>1</td>\n",
       "      <td>0</td>\n",
       "      <td>0</td>\n",
       "      <td>0</td>\n",
       "    </tr>\n",
       "    <tr>\n",
       "      <th>4</th>\n",
       "      <td>2751</td>\n",
       "      <td>144</td>\n",
       "      <td>24</td>\n",
       "      <td>85</td>\n",
       "      <td>34</td>\n",
       "      <td>1356</td>\n",
       "      <td>245</td>\n",
       "      <td>227</td>\n",
       "      <td>96</td>\n",
       "      <td>1466</td>\n",
       "      <td>...</td>\n",
       "      <td>0</td>\n",
       "      <td>0</td>\n",
       "      <td>1</td>\n",
       "      <td>1</td>\n",
       "      <td>0</td>\n",
       "      <td>1</td>\n",
       "      <td>0</td>\n",
       "      <td>0</td>\n",
       "      <td>0</td>\n",
       "      <td>0</td>\n",
       "    </tr>\n",
       "  </tbody>\n",
       "</table>\n",
       "<p>5 rows × 148 columns</p>\n",
       "</div>"
      ],
      "text/plain": [
       "     V1   V2  V3   V4  V5    V6   V7   V8   V9   V10  ... C_C C_B C_C C_B C_C  \\\n",
       "0  2720  356  20  182  64  1766  184  201  151  1660  ...   1   1   0   1   0   \n",
       "1  3080   55   9  124   8  1717  226  221  128   875  ...   0   1   0   0   1   \n",
       "2  2797   74  13   30   6  1048  235  215  109  2165  ...   0   1   0   1   0   \n",
       "3  2728  310  20    0   0  2227  161  222  199   335  ...   0   1   0   1   0   \n",
       "4  2751  144  24   85  34  1356  245  227   96  1466  ...   0   0   1   1   0   \n",
       "\n",
       "  C_C2 C_C3 C_C4 C_C5 C_C6  \n",
       "0    1    0    0    0    0  \n",
       "1    0    1    0    0    0  \n",
       "2    0    0    0    0    0  \n",
       "3    0    1    0    0    0  \n",
       "4    1    0    0    0    0  \n",
       "\n",
       "[5 rows x 148 columns]"
      ]
     },
     "execution_count": 20,
     "metadata": {},
     "output_type": "execute_result"
    }
   ],
   "source": [
    "#Variables explicatives\n",
    "xtrain=dftrain2.iloc[:,:-1]\n",
    "xtrain.head()"
   ]
  },
  {
   "cell_type": "code",
   "execution_count": 21,
   "id": "d1536039",
   "metadata": {
    "scrolled": true
   },
   "outputs": [
    {
     "name": "stdout",
     "output_type": "stream",
     "text": [
      "<class 'pandas.core.frame.DataFrame'>\n",
      "RangeIndex: 100000 entries, 0 to 99999\n",
      "Columns: 148 entries, V1 to C_C6\n",
      "dtypes: int64(10), object(45), uint8(93)\n",
      "memory usage: 50.8+ MB\n"
     ]
    }
   ],
   "source": [
    "#Variables explicatives\n",
    "xtest=dftest2.iloc[:,:-1]\n",
    "xtest.info()"
   ]
  },
  {
   "cell_type": "code",
   "execution_count": 22,
   "id": "9029b0ad",
   "metadata": {},
   "outputs": [],
   "source": [
    "#centrage-réduction\n",
    "\n",
    "#xtrain\n",
    "from sklearn.preprocessing import StandardScaler\n",
    "scaler = StandardScaler()\n",
    "\n",
    "xtrain=scaler.fit_transform(xtrain.select_dtypes(include=['int']))\n",
    "#xtest\n",
    "xtest=scaler.transform(xtest.select_dtypes(include=['int']))"
   ]
  },
  {
   "cell_type": "code",
   "execution_count": 23,
   "id": "56342bda",
   "metadata": {},
   "outputs": [
    {
     "name": "stdout",
     "output_type": "stream",
     "text": [
      "(381012, 10)\n",
      "(100000, 10)\n"
     ]
    }
   ],
   "source": [
    "print(xtrain.shape)\n",
    "print(xtest.shape)"
   ]
  },
  {
   "cell_type": "code",
   "execution_count": 24,
   "id": "bee68828",
   "metadata": {},
   "outputs": [
    {
     "name": "stdout",
     "output_type": "stream",
     "text": [
      "0         0\n",
      "1         0\n",
      "2         0\n",
      "3         0\n",
      "4         0\n",
      "         ..\n",
      "381007    0\n",
      "381008    0\n",
      "381009    0\n",
      "381010    0\n",
      "381011    0\n",
      "Name: C_C7, Length: 381012, dtype: uint8\n",
      "0        0\n",
      "1        0\n",
      "2        0\n",
      "3        0\n",
      "4        0\n",
      "        ..\n",
      "99995    0\n",
      "99996    0\n",
      "99997    0\n",
      "99998    0\n",
      "99999    0\n",
      "Name: C_C7, Length: 100000, dtype: uint8\n"
     ]
    }
   ],
   "source": [
    "#y\n",
    "print(dftrain2['C_C7'])\n",
    "print(dftest2['C_C7'])"
   ]
  },
  {
   "cell_type": "code",
   "execution_count": 25,
   "id": "dff571c9",
   "metadata": {},
   "outputs": [
    {
     "name": "stdout",
     "output_type": "stream",
     "text": [
      "CPU times: total: 44.9 s\n",
      "Wall time: 11.4 s\n"
     ]
    },
    {
     "data": {
      "text/plain": [
       "LogisticRegression(multi_class='multinomial', solver='newton-cg')"
      ]
     },
     "execution_count": 25,
     "metadata": {},
     "output_type": "execute_result"
    }
   ],
   "source": [
    "#****régression multinomiale\n",
    "from sklearn.linear_model import LogisticRegression\n",
    "lr=LogisticRegression(multi_class=\"multinomial\",solver=\"newton-cg\")\n",
    "\n",
    "#apprentissage\n",
    "%time lr.fit(xtrain, dftrain2.C_C7)\n"
   ]
  },
  {
   "cell_type": "code",
   "execution_count": 26,
   "id": "e5e678a2",
   "metadata": {},
   "outputs": [
    {
     "name": "stdout",
     "output_type": "stream",
     "text": [
      "0.00542\n"
     ]
    }
   ],
   "source": [
    "#vérification\n",
    "pred=lr.predict(xtest)\n",
    "#taux d'erreur\n",
    "print(numpy.mean(dftest2.C_C7 != pred))"
   ]
  },
  {
   "cell_type": "code",
   "execution_count": 27,
   "id": "330f97f9",
   "metadata": {},
   "outputs": [
    {
     "name": "stdout",
     "output_type": "stream",
     "text": [
      "[0 0 0 ... 0 0 0]\n"
     ]
    }
   ],
   "source": [
    "print(pred)"
   ]
  },
  {
   "cell_type": "code",
   "execution_count": 28,
   "id": "e70be2e4",
   "metadata": {},
   "outputs": [],
   "source": [
    "#fonction pour évaluation\n",
    "def evaluation(modele,xtest):\n",
    "    #prediction\n",
    "    p = modele.predict(xtest)\n",
    "    #taux d'erreur\n",
    "    err = 1.0 - mt.accuracy_score(dftest2.C_C7,p)\n",
    "    return err"
   ]
  },
  {
   "cell_type": "code",
   "execution_count": 29,
   "id": "29869b9a",
   "metadata": {},
   "outputs": [
    {
     "name": "stdout",
     "output_type": "stream",
     "text": [
      "[[-1.46545365  0.08824963 -0.17780637 -1.03576094  0.60329758  0.55549551\n",
      "   0.52539223  0.23409263 -0.06705172  0.00305521]]\n"
     ]
    }
   ],
   "source": [
    "#affichage des coefficients\n",
    "print(lr.coef_)"
   ]
  },
  {
   "cell_type": "code",
   "execution_count": 30,
   "id": "5e821691",
   "metadata": {},
   "outputs": [
    {
     "name": "stdout",
     "output_type": "stream",
     "text": [
      "[[9.99782505e-01 2.17494519e-04]\n",
      " [9.99970600e-01 2.94004613e-05]\n",
      " [9.99999218e-01 7.81679805e-07]\n",
      " [9.99951037e-01 4.89630958e-05]\n",
      " [9.99994829e-01 5.17145724e-06]]\n"
     ]
    }
   ],
   "source": [
    "#probabilités d'affectation sur l'échantillon test\n",
    "all_scores = lr.predict_proba(xtest)\n",
    "print(all_scores[:5,:])"
   ]
  },
  {
   "cell_type": "code",
   "execution_count": 31,
   "id": "539c2759",
   "metadata": {},
   "outputs": [
    {
     "data": {
      "text/plain": [
       "GridSearchCV(cv=2,\n",
       "             estimator=LogisticRegression(multi_class='multinomial',\n",
       "                                          solver='newton-cg'),\n",
       "             param_grid=[{'C': [0.1, 0.5, 1, 2.5, 5, 10, 50]}],\n",
       "             scoring='roc_auc')"
      ]
     },
     "execution_count": 31,
     "metadata": {},
     "output_type": "execute_result"
    }
   ],
   "source": [
    "#Grid search et évaluation avec auc\n",
    "from sklearn.model_selection import GridSearchCV\n",
    "from sklearn.metrics import auc\n",
    "#paramètre de régularisation C à tester\n",
    "parametres = [{'C':[0.1,0.5,1,2.5,5,10,50]}]\n",
    "\n",
    "#instanciation\n",
    "grid = GridSearchCV(estimator=lr,param_grid=parametres,scoring='roc_auc',cv=2)\n",
    "\n",
    "grid.fit(xtrain, dftrain2.C_C7)"
   ]
  },
  {
   "cell_type": "code",
   "execution_count": 32,
   "id": "29b6bbc9",
   "metadata": {},
   "outputs": [
    {
     "name": "stdout",
     "output_type": "stream",
     "text": [
      "{'C': 0.1}\n"
     ]
    }
   ],
   "source": [
    "#meilleur paramètre\n",
    "print(grid.best_params_)"
   ]
  },
  {
   "cell_type": "code",
   "execution_count": 33,
   "id": "d91be8da",
   "metadata": {},
   "outputs": [
    {
     "name": "stdout",
     "output_type": "stream",
     "text": [
      "0.9890351157543242\n"
     ]
    }
   ],
   "source": [
    "#meilleur score\n",
    "print(grid.best_score_)"
   ]
  },
  {
   "cell_type": "code",
   "execution_count": 35,
   "id": "cb12e168",
   "metadata": {},
   "outputs": [
    {
     "name": "stdout",
     "output_type": "stream",
     "text": [
      "       params  mean_test_score\n",
      "0  {'C': 0.1}         0.989035\n",
      "1  {'C': 0.5}         0.988449\n",
      "2    {'C': 1}         0.988356\n",
      "3  {'C': 2.5}         0.988297\n",
      "4    {'C': 5}         0.988277\n",
      "5   {'C': 10}         0.988267\n",
      "6   {'C': 50}         0.988258\n"
     ]
    }
   ],
   "source": [
    "#meilleur présentation\n",
    "import pandas\n",
    "resultats = pandas.DataFrame.from_dict(grid.cv_results_)\n",
    "print(resultats[['params','mean_test_score']])"
   ]
  },
  {
   "cell_type": "code",
   "execution_count": 36,
   "id": "8bf15dcf",
   "metadata": {},
   "outputs": [
    {
     "name": "stdout",
     "output_type": "stream",
     "text": [
      "CPU times: total: 45.5 s\n",
      "Wall time: 11.6 s\n"
     ]
    },
    {
     "data": {
      "text/plain": [
       "LogisticRegression(C=0.1, multi_class='multinomial', solver='newton-cg')"
      ]
     },
     "execution_count": 36,
     "metadata": {},
     "output_type": "execute_result"
    }
   ],
   "source": [
    "#****régression multinomiale avec les paramètres conseillés\n",
    "from sklearn.linear_model import LogisticRegression\n",
    "lr=LogisticRegression(multi_class=\"multinomial\",solver=\"newton-cg\", C=0.1)\n",
    "\n",
    "#apprentissage\n",
    "%time lr.fit(xtrain, dftrain2.C_C7)"
   ]
  },
  {
   "cell_type": "code",
   "execution_count": 37,
   "id": "3e0bde60",
   "metadata": {},
   "outputs": [
    {
     "name": "stdout",
     "output_type": "stream",
     "text": [
      "0.00539\n"
     ]
    }
   ],
   "source": [
    "#vérification\n",
    "pred2=lr.predict(xtest)\n",
    "#taux d'erreur\n",
    "print(numpy.mean(dftest2.C_C7 != pred2))"
   ]
  },
  {
   "cell_type": "code",
   "execution_count": null,
   "id": "73724e8a",
   "metadata": {},
   "outputs": [],
   "source": []
  }
 ],
 "metadata": {
  "kernelspec": {
   "display_name": "Python 3 (ipykernel)",
   "language": "python",
   "name": "python3"
  },
  "language_info": {
   "codemirror_mode": {
    "name": "ipython",
    "version": 3
   },
   "file_extension": ".py",
   "mimetype": "text/x-python",
   "name": "python",
   "nbconvert_exporter": "python",
   "pygments_lexer": "ipython3",
   "version": "3.9.12"
  }
 },
 "nbformat": 4,
 "nbformat_minor": 5
}
